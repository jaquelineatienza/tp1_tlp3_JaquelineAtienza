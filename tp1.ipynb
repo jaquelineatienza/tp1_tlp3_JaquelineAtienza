{
 "cells": [
  {
   "cell_type": "markdown",
   "metadata": {},
   "source": [
    "# Criterios de evaluación.\n",
    "\n",
    "* Se deben utilizar nombres de variables descriptivos y claros (Utilizar la nomeclatura correspondiente para los nombres de variables).\n",
    "* Comentarios claros y concisos que expliquen el propósito de cada sección del código.\n",
    "* Entrega en tiempo y forma.\n",
    "* Todo el código desarrollado debe ser subido a un repositorio en GitHub (el nombre del repositorio de seguir la siguiente estructura: tp1_tlp3_nombre_apellido).\n",
    "\n",
    "\n",
    "**Aclaración: Para resolver las actividades se debe incertar casillas de codigo entre cada actividad del cuaderno de Jupyter**"
   ]
  },
  {
   "cell_type": "markdown",
   "metadata": {},
   "source": [
    "### 1. **Hola Mundo y Variables**\n",
    "\n",
    "   - **Actividad 1.1**: Deben escribir un programa que imprima \"¡Hola, Mundo!\" en la consola.\n",
    "   - **Actividad 1.2**: Deben crear una variable llamada `nombre` y hacer que el programa imprima un saludo personalizado: `Hola, <nombre>!`"
   ]
  },
  {
   "cell_type": "code",
   "execution_count": 1,
   "metadata": {},
   "outputs": [
    {
     "name": "stdout",
     "output_type": "stream",
     "text": [
      "!Hola, mundo¡\n"
     ]
    }
   ],
   "source": [
    "#1\n",
    "print(\"!Hola, mundo¡\")"
   ]
  },
  {
   "cell_type": "code",
   "execution_count": 3,
   "metadata": {},
   "outputs": [
    {
     "name": "stdout",
     "output_type": "stream",
     "text": [
      "Hola,juan\n"
     ]
    }
   ],
   "source": [
    "#2\n",
    "nombre = \"juan\";\n",
    "saludo = f\"Hola,{nombre}\"\n",
    "print(saludo)"
   ]
  },
  {
   "cell_type": "markdown",
   "metadata": {},
   "source": [
    "### 2. **Operaciones Matemáticas Básicas**\n",
    "\n",
    "   - **Actividad 1.1**: Crear un programa que pida al usuario dos números y realice las cuatro operaciones matemáticas básicas (suma, resta, multiplicación y división), imprimiendo los resultados.\n",
    "   - **Actividad 1.2**: Hacer que el programa calcule el promedio de los dos números."
   ]
  },
  {
   "cell_type": "code",
   "execution_count": null,
   "metadata": {},
   "outputs": [
    {
     "name": "stdout",
     "output_type": "stream",
     "text": [
      "12\n"
     ]
    }
   ],
   "source": [
    "num1 = int(input(\"Ingrese el primer número: \"))\n",
    "num2 = int(input(\"Ingrese el segundo número: \"))\n",
    "\n",
    "result = num1+num2\n",
    "\n",
    "print(result)"
   ]
  },
  {
   "cell_type": "code",
   "execution_count": null,
   "metadata": {},
   "outputs": [],
   "source": [
    "num1 = int(input(\"Ingrese el primer número: \"))\n",
    "num2 = int(input(\"Ingrese el segundo número: \"))\n",
    "\n",
    "result = num1-num2\n",
    "\n",
    "print(result)"
   ]
  },
  {
   "cell_type": "code",
   "execution_count": null,
   "metadata": {},
   "outputs": [],
   "source": [
    "num1 = int(input(\"Ingrese el primer número: \"))\n",
    "num2 = int(input(\"Ingrese el segundo número: \"))\n",
    "\n",
    "result = num1*num2\n",
    "\n",
    "print(result)"
   ]
  },
  {
   "cell_type": "code",
   "execution_count": 77,
   "metadata": {},
   "outputs": [
    {
     "name": "stdout",
     "output_type": "stream",
     "text": [
      "2.0\n"
     ]
    }
   ],
   "source": [
    "num1 = int(input(\"Ingrese el primer número: \"))\n",
    "num2 = int(input(\"Ingrese el segundo número: \"))\n",
    "\n",
    "result = num1/num2\n",
    "\n",
    "print(result)"
   ]
  },
  {
   "cell_type": "code",
   "execution_count": 79,
   "metadata": {},
   "outputs": [
    {
     "name": "stdout",
     "output_type": "stream",
     "text": [
      "10.0\n"
     ]
    }
   ],
   "source": [
    "num1 = int(input(\"Ingrese el primer número: \"))\n",
    "num2 = int(input(\"Ingrese el segundo número: \"))\n",
    "\n",
    "total = num1+num2\n",
    "promedio= total/2\n",
    "\n",
    "print(promedio)"
   ]
  },
  {
   "cell_type": "markdown",
   "metadata": {},
   "source": [
    "### 3. **Condicionales (if-else)**\n",
    "\n",
    "   - **Actividad 1.1**: Escribir un programa que pida al usuario su edad y le diga si es mayor de edad (18 años o más).\n",
    "   - **Actividad 1.2**: Agregar un mensaje diferente para diferentes rangos de edad, como por ejemplo, si es un niño, adolescente o adulto."
   ]
  },
  {
   "cell_type": "code",
   "execution_count": null,
   "metadata": {},
   "outputs": [
    {
     "name": "stdout",
     "output_type": "stream",
     "text": [
      "Si es mayor de edad\n"
     ]
    }
   ],
   "source": [
    "edad = int(input(\"Ingrese su edad:  \"))\n",
    "\n",
    "if (edad >= 18) :\n",
    "    print('Si es mayor de edad')"
   ]
  },
  {
   "cell_type": "code",
   "execution_count": 17,
   "metadata": {},
   "outputs": [
    {
     "name": "stdout",
     "output_type": "stream",
     "text": [
      "El usuario es adulto\n"
     ]
    }
   ],
   "source": [
    "edad = int(input(\"Ingrese su edad:  \"))\n",
    "\n",
    "if (edad >=2  and  edad < 12) :\n",
    "    print('El usuario es un niño')\n",
    "elif(edad >= 12 and edad <18):\n",
    "    print('El usuario es adolecente')\n",
    "else :\n",
    "    print('El usuario es adulto')\n"
   ]
  },
  {
   "cell_type": "markdown",
   "metadata": {},
   "source": [
    "### 4. **Ciclos (while, for)**\n",
    "\n",
    "   - **Actividad 1.1**: Escribir un programa que imprima los números del 1 al 10 usando un bucle `for`.\n",
    "   - **Actividad 1.2**: Usar un bucle `while` para imprimir los números del 1 al 10, e imprimir solo aquellos números que sean divisibles por 2."
   ]
  },
  {
   "cell_type": "code",
   "execution_count": null,
   "metadata": {},
   "outputs": [
    {
     "name": "stdout",
     "output_type": "stream",
     "text": [
      "1\n",
      "2\n",
      "3\n",
      "4\n",
      "5\n",
      "6\n",
      "7\n",
      "8\n",
      "9\n",
      "10\n"
     ]
    }
   ],
   "source": [
    "for i in range(1, 11):\n",
    "    print(i)\n"
   ]
  },
  {
   "cell_type": "code",
   "execution_count": 28,
   "metadata": {},
   "outputs": [
    {
     "name": "stdout",
     "output_type": "stream",
     "text": [
      "2\n",
      "4\n",
      "6\n",
      "8\n",
      "10\n"
     ]
    }
   ],
   "source": [
    "i = 1\n",
    "while i < 11:\n",
    "  \n",
    "  if i % 2 == 0:\n",
    "    print(i)\n",
    "  i += 1\n"
   ]
  },
  {
   "cell_type": "markdown",
   "metadata": {},
   "source": [
    "### 5. **Listas y Bucles**\n",
    "\n",
    "   - **Actividad 1.1**: Crear una lista con 5 números y escribir un programa que imprima cada número de la lista usando un bucle `for`.\n",
    "   - **Actividad 1.2**: Usar un bucle para calcular la suma de los números de la lista."
   ]
  },
  {
   "cell_type": "code",
   "execution_count": 35,
   "metadata": {},
   "outputs": [
    {
     "name": "stdout",
     "output_type": "stream",
     "text": [
      "1\n",
      "2\n",
      "3\n",
      "4\n",
      "5\n"
     ]
    }
   ],
   "source": [
    "numbers = [1,2,3,4,5]\n",
    "for iterador in numbers:\n",
    "    print(iterador)"
   ]
  },
  {
   "cell_type": "code",
   "execution_count": null,
   "metadata": {},
   "outputs": [
    {
     "name": "stdout",
     "output_type": "stream",
     "text": [
      "suma 11\n"
     ]
    }
   ],
   "source": [
    "numbers = [0,1,2,3,5]\n",
    "\n",
    "suma = 0\n",
    "for i in numbers:\n",
    "    suma+=i\n",
    "print('suma',suma)"
   ]
  },
  {
   "cell_type": "markdown",
   "metadata": {},
   "source": [
    "### 6. **Funciones**\n",
    "\n",
    "   - **Actividad 1.1**: Escribir una función llamada `saludo` que reciba un nombre como parámetro y devuelva un saludo personalizado.\n",
    "   - **Actividad 1.2**: Crear una función que reciba dos números y devuelva su suma, resta, multiplicación y división."
   ]
  },
  {
   "cell_type": "code",
   "execution_count": 41,
   "metadata": {},
   "outputs": [
    {
     "name": "stdout",
     "output_type": "stream",
     "text": [
      "Hola, Ana!\n"
     ]
    }
   ],
   "source": [
    "def saludar(nombre):\n",
    "    print(f\"Hola, {nombre}!\")\n",
    "\n",
    "saludar(\"Ana\")"
   ]
  },
  {
   "cell_type": "code",
   "execution_count": 80,
   "metadata": {},
   "outputs": [
    {
     "name": "stdout",
     "output_type": "stream",
     "text": [
      "la suma es 6\n",
      "la resta es -2\n",
      "la multiplicacion es 8\n",
      "la division es 2\n"
     ]
    }
   ],
   "source": [
    "def calculo(num1,num2):\n",
    " suma = num1+num2\n",
    " multiplicacion = num1 * num2\n",
    " division = num1%num2\n",
    " resta = num1 - num2\n",
    "\n",
    " print('la suma es',  suma);\n",
    " print('la resta es',  resta);\n",
    " print('la multiplicacion es',  multiplicacion);\n",
    " print('la division es',  division);\n",
    "\n",
    "\n",
    "\n",
    "calculo(2,4)"
   ]
  },
  {
   "cell_type": "markdown",
   "metadata": {},
   "source": [
    "### 7. **Manejo de cadenas de texto**\n",
    "\n",
    "   - **Actividad 1.1**: Escribir un programa que pida al usuario su nombre y lo imprima en mayúsculas y en minúsculas.\n",
    "   - **Actividad 1.2**: Hacer que el programa imprima la longitud del nombre ingresado (no tener en cuenta los espacios en blanco)."
   ]
  },
  {
   "cell_type": "code",
   "execution_count": 45,
   "metadata": {},
   "outputs": [
    {
     "name": "stdout",
     "output_type": "stream",
     "text": [
      "ana\n",
      "ANA\n"
     ]
    }
   ],
   "source": [
    "name = str(input(\"ingrese su nombre: \"))\n",
    "\n",
    "#miniscula\n",
    "print(name.lower())\n",
    "#mayuscula\n",
    "print(name.upper())"
   ]
  },
  {
   "cell_type": "code",
   "execution_count": 52,
   "metadata": {},
   "outputs": [
    {
     "name": "stdout",
     "output_type": "stream",
     "text": [
      "8\n"
     ]
    }
   ],
   "source": [
    "name = str(input(\"ingrese su nombre: \"))\n",
    "\n",
    "name_sin_espacio = name.replace(\" \", \"\")\n",
    "\n",
    "result  = len(name_sin_espacio)\n",
    "print(result)\n"
   ]
  },
  {
   "cell_type": "markdown",
   "metadata": {},
   "source": [
    "### 8. **Diccionarios**\n",
    "\n",
    "   - **Actividad1.1**: Crear un diccionario que contenga los nombres de tres personas como claves y sus edades como valores. El programa debe imprimir la edad de cada persona.\n",
    "   - **Actividad1.2**: Escribir un programa que pregunte al usuario un nombre, luego su edad y los agregue al diccionario."
   ]
  },
  {
   "cell_type": "code",
   "execution_count": 58,
   "metadata": {},
   "outputs": [
    {
     "name": "stdout",
     "output_type": "stream",
     "text": [
      "12\n",
      "13\n",
      "15\n"
     ]
    }
   ],
   "source": [
    "diccionario = {\"juan\":12,\"Ana\":13,\"Pablo\":15}\n",
    "for edad in diccionario.values():\n",
    "    print(edad)\n"
   ]
  },
  {
   "cell_type": "code",
   "execution_count": null,
   "metadata": {},
   "outputs": [
    {
     "name": "stdout",
     "output_type": "stream",
     "text": [
      "{'nombre': 10, 'edad': 15}\n"
     ]
    }
   ],
   "source": [
    "nombre = str(input('ingrese su nombre'))\n",
    "edad = int(input('ingrese su edad'))\n",
    "datos = {}\n",
    "datos[\"nombre\"] = nombre\n",
    "datos[\"edad\"] = edad\n",
    "print(datos)"
   ]
  },
  {
   "cell_type": "markdown",
   "metadata": {},
   "source": [
    "### 9. **Números aleatorios**\n",
    "\n",
    "   - **Actividad 1.1**: Escribir un programa que genere 5 números aleatorios entre 1 y 100, lo imprima por consola y diga si es mayor o menor a 50.\n",
    "   - **Actividad 1.2**: Sumar los 5 números generados aleatoriamente y en caso de que el resultado sea mayor a 100, mostrar el valor antes de ser mayor a 100 y cuantos números se sumaron para llegar a dicho valor."
   ]
  },
  {
   "cell_type": "code",
   "execution_count": 4,
   "metadata": {},
   "outputs": [
    {
     "name": "stdout",
     "output_type": "stream",
     "text": [
      "es menor que 50,  14\n",
      "es menor que 50,  16\n",
      "es mayor que 50,  69\n",
      "es menor que 50,  3\n",
      "es menor que 50,  45\n"
     ]
    }
   ],
   "source": [
    "\n",
    "import random\n",
    "\n",
    "numero_aleatorio = [random.randint(1, 100) for _ in range(5)]\n",
    "\n",
    "for i in numero_aleatorio :\n",
    "    if(i >50):\n",
    "        print(\"es mayor que 50, \",i)\n",
    "    elif ( i<50):\n",
    "        print(\"es menor que 50, \",i)\n"
   ]
  },
  {
   "cell_type": "code",
   "execution_count": null,
   "metadata": {},
   "outputs": [
    {
     "name": "stdout",
     "output_type": "stream",
     "text": [
      "La suma de todos los números es: 77\n"
     ]
    }
   ],
   "source": [
    "import random\n",
    "\n",
    "numeros = [random.randint(1, 30) for _ in range(5)]\n",
    "\n",
    "suma = 0\n",
    "cantidad_numeros = 0\n",
    "for numero in numeros:\n",
    "    suma += numero\n",
    "    cantidad_numeros += 1\n",
    "    if suma > 100:\n",
    "        print(f\"La suma antes de superar 100: ,{suma - numero}\")\n",
    "        print(f\"Se sumaron {cantidad_numeros - 1} números.\")\n",
    "        break\n",
    "else:\n",
    "    print(\"La suma de todos los números es:\", suma)"
   ]
  },
  {
   "cell_type": "markdown",
   "metadata": {},
   "source": [
    "### 10. **Proyecto Final: Calculadora**\n",
    "\n",
    "   - **Actividad 1.1**: Los estudiantes deben crear una calculadora básica que permita realizar operaciones de suma, resta, multiplicación y división con entradas del usuario. El programa debe pedir al usuario que elija la operación y luego introducir 2 números para realizar el cálculo.\n",
    "   - **Actividad 1.2**: Implementar una opción para que el usuario pueda continuar haciendo cálculos o salir del programa."
   ]
  },
  {
   "cell_type": "code",
   "execution_count": 82,
   "metadata": {},
   "outputs": [
    {
     "name": "stdout",
     "output_type": "stream",
     "text": [
      "0.5\n"
     ]
    }
   ],
   "source": [
    "numeros1 = int(input('ingrese el primer numero'))\n",
    "numeros2 = int(input('ingrese el segundo numero'))\n",
    "operacion = str(input('ingrese la operacion a realizar'))\n",
    "\n",
    "if (operacion == \"suma\"):\n",
    "    suma = numeros1 + numeros2\n",
    "    print(suma)\n",
    "elif (operacion == \"resta\"):\n",
    "    resta = numeros1-numeros2\n",
    "    print(resta)\n",
    "elif (operacion == \"multiplicacion\"):\n",
    "    multiplicacion = numeros1*numeros2\n",
    "    print(multiplicacion)\n",
    "elif (operacion == \"division\"):\n",
    "    division = numeros1/numeros2\n",
    "    print(division)\n",
    "else:\n",
    "    print(\"Error por favor ingrese una operacion valida\")\n",
    "\n",
    "\n"
   ]
  },
  {
   "cell_type": "code",
   "execution_count": 83,
   "metadata": {},
   "outputs": [
    {
     "name": "stdout",
     "output_type": "stream",
     "text": [
      "El resultado de la suma es: 20\n"
     ]
    }
   ],
   "source": [
    "\n",
    "while True:\n",
    "    operacion = input('Ingrese la operación a realizar (suma, resta, multiplicacion, division): ').lower()\n",
    "    numeros1 = int(input('Ingrese el primer número: '))\n",
    "    numeros2 = int(input('Ingrese el segundo número: '))\n",
    "\n",
    "    if operacion == \"suma\":\n",
    "        resultado = numeros1 + numeros2\n",
    "        print(f'El resultado de la suma es: {resultado}')\n",
    "    elif operacion == \"resta\":\n",
    "        resultado = numeros1 - numeros2\n",
    "        print(f'El resultado de la resta es: {resultado}')\n",
    "    elif operacion == \"multiplicacion\":\n",
    "        resultado = numeros1 * numeros2\n",
    "        print(f'El resultado de la multiplicación es: {resultado}')\n",
    "    elif operacion == \"division\":\n",
    "            resultado = numeros1 / numeros2\n",
    "            print(f'El resultado de la división es: {resultado}')\n",
    "    else:\n",
    "        print(\"Error: Por favor ingrese una operación válida.\")\n",
    "        continue \n",
    "\n",
    "\n",
    "    continuar = input(\"¿Desea realizar más operaciones? (si/no): \").lower()\n",
    "    if continuar != \"si\":\n",
    "        break"
   ]
  },
  {
   "cell_type": "markdown",
   "metadata": {},
   "source": [
    "### EXTRA. **Juegos Simples (Adivina el número)**\n",
    "\n",
    "   - **Actividad 1.1**: Escribir un juego donde el programa elija un número aleatorio entre 1 y 100 y el usuario tenga que adivinarlo. El programa debe dar pistas si el número es mayor o menor.\n",
    "   - **Actividad 1.2**: Limitar el número de intentos y mostrar un mensaje de éxito o fracaso al final."
   ]
  }
 ],
 "metadata": {
  "kernelspec": {
   "display_name": "Python 3",
   "language": "python",
   "name": "python3"
  },
  "language_info": {
   "codemirror_mode": {
    "name": "ipython",
    "version": 3
   },
   "file_extension": ".py",
   "mimetype": "text/x-python",
   "name": "python",
   "nbconvert_exporter": "python",
   "pygments_lexer": "ipython3",
   "version": "3.13.2"
  }
 },
 "nbformat": 4,
 "nbformat_minor": 2
}
